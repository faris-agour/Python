{
 "cells": [
  {
   "cell_type": "markdown",
   "metadata": {},
   "source": [
    "## Expression Evaluator Using normal function\n",
    "\n",
    "\n",
    "Task:\n",
    "Write a function evaluate_expression(expr) that evaluates a mathematical expression provided as a string containing single-digit numbers and operators (+, -, *, /). The function should compute the result following the correct order of operations (PEMDAS/BOD-MAS).\n",
    "\n",
    "#### **Constraints:**\n",
    "\n",
    "- Do not use eval() or similar built-in functions to evaluate the expression.\n",
    "- The expression may contain parentheses to indicate order of operations.\n",
    "- Use loops or any other wat to parse the string and the best for you to best match-case statement to identify and apply operators.\n",
    "- Handle division operations as floating-point division.\n",
    "\n",
    "**Example:**\n",
    "\n",
    "`evaluate_expression(\"3+5*2-8/4\")`\n",
    "\n",
    "**Output:**\n",
    "\n",
    "**10.0**\n",
    "\n",
    "**Requirements:**\n",
    "\n",
    "- Implement operator precedence.\n",
    "- Support for parentheses is optional but will be considered for extra credit.\n",
    "- Provide error handling for invalid expressions."
   ]
  },
  {
   "cell_type": "code",
   "execution_count": 2,
   "outputs": [
    {
     "name": "stdout",
     "output_type": "stream",
     "text": [
      "['+', '-', '-', '+']\n",
      "[3, 10, 6.0, 9, 5.0]\n",
      "Result: 3.0\n"
     ]
    }
   ],
   "source": [
    "def evaluate_expression(expr):\n",
    "    op = []\n",
    "    num = []\n",
    "    i = 0\n",
    "\n",
    "    while i < (len(expr)):\n",
    "        if expr[i] in [\"+\", \"-\"]:  # ----------------------> make it the last operation\n",
    "            op.append(expr[i])\n",
    "            i += 1\n",
    "\n",
    "        elif expr[i].isdigit():\n",
    "            c = i  # -----------------------------------------> count multiple digits\n",
    "            while c < len(expr) and expr[c].isdigit():\n",
    "                c += 1\n",
    "            num.append(int(expr[i:c]))\n",
    "            i = c\n",
    "\n",
    "        elif expr[i] in [\"*\", \"/\"]: # ----------------------> make this operation immediately\n",
    "            prev = num.pop()\n",
    "            i+=1 # not to take the operator\n",
    "            \n",
    "            if expr[i].isdigit():\n",
    "            \n",
    "                c=i   # -----------------------------------------> count multiple digits\n",
    "                while c <len(expr) and expr[c].isdigit():\n",
    "                    c+=1\n",
    "                nex = int(expr[i:c])\n",
    "                \n",
    "                if expr[i-1] == \"*\":\n",
    "                    num.append(prev * nex)\n",
    "                else:\n",
    "                    num.append(prev / nex)\n",
    "                i=c\n",
    "        else:\n",
    "            i += 1\n",
    "\n",
    "    # print(op)\n",
    "    # print(num)\n",
    "    \n",
    "    while len(op) > 0:\n",
    "        first = num.pop(0)\n",
    "        second = num.pop(0)\n",
    "        op1 = op.pop(0)\n",
    "        num.insert(0, first + second if op1 == \"+\" else first - second)\n",
    "    return num[0]\n",
    "\n",
    "\n",
    "result = evaluate_expression(\"3+5*2-8/4*3-9+10/2\")\n",
    "print(\"Result:\", result)\n",
    "# \"3+5*2-8/4\"\n",
    "# \"3+5*(2-8)/4\""
   ],
   "metadata": {
    "collapsed": false,
    "ExecuteTime": {
     "end_time": "2024-11-25T01:24:22.495907Z",
     "start_time": "2024-11-25T01:24:22.484144500Z"
    }
   }
  },
  {
   "cell_type": "code",
   "execution_count": 4,
   "outputs": [
    {
     "name": "stdout",
     "output_type": "stream",
     "text": [
      "3.0\n"
     ]
    }
   ],
   "source": [
    "# test\n",
    "print(eval(\"3+5*2-8/4*3-9+10/2\"))"
   ],
   "metadata": {
    "collapsed": false,
    "ExecuteTime": {
     "end_time": "2024-11-25T01:25:05.038311800Z",
     "start_time": "2024-11-25T01:25:05.020498600Z"
    }
   }
  },
  {
   "cell_type": "code",
   "execution_count": null,
   "outputs": [],
   "source": [],
   "metadata": {
    "collapsed": false
   }
  }
 ],
 "metadata": {
  "kernelspec": {
   "display_name": "base",
   "language": "python",
   "name": "python3"
  },
  "language_info": {
   "codemirror_mode": {
    "name": "ipython",
    "version": 3
   },
   "file_extension": ".py",
   "mimetype": "text/x-python",
   "name": "python",
   "nbconvert_exporter": "python",
   "pygments_lexer": "ipython3",
   "version": "3.11.6"
  }
 },
 "nbformat": 4,
 "nbformat_minor": 2
}
